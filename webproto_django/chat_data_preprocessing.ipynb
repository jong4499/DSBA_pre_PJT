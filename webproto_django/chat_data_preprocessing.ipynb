{
 "cells": [
  {
   "cell_type": "code",
   "execution_count": 1,
   "metadata": {},
   "outputs": [],
   "source": [
    "from konlpy.tag import Kkma\n",
    "from tqdm import tqdm\n",
    "import pandas as pd\n",
    "\n",
    "local_data_org = pd.read_csv(\"C:/Users/admin/Desktop/pre_django/local_dict.csv\", encoding='cp949')\n",
    "kkma = Kkma()"
   ]
  },
  {
   "cell_type": "code",
   "execution_count": 2,
   "metadata": {},
   "outputs": [],
   "source": [
    "local_data_org['주소'] = local_data_org['주소'].str.replace('충남', '충청남도')\n",
    "local_data_org['주소'] = local_data_org['주소'].str.replace('김포시', '경기도 김포시')\n",
    "local_data_org['주소'] = local_data_org['주소'].str.replace('경기도 경기도', '경기도')\n",
    "local_data_org['주소'] = local_data_org['주소'].str.replace('양산시', '경상남도 양산시')\n",
    "local_data_org['주소'] = local_data_org['주소'].str.replace('경남', '경상남도')\n",
    "local_data_org['주소'] = local_data_org['주소'].str.replace('전남', '전라남도')\n",
    "local_data_org['주소'] = local_data_org['주소'].str.replace('대전', '대전광역시')\n",
    "local_data_org['주소'] = local_data_org['주소'].str.replace('대전광역시광역시', '대전광역시')\n",
    "local_data_org['주소'] = local_data_org['주소'].str.replace('강원특별자치도', '강원도')\n",
    "local_data_org['주소'] = local_data_org['주소'].str.replace('제주특별자치도', '제주도')\n",
    "local_data_org['주소'] = local_data_org['주소'].str.replace('서울특별시', '서울')"
   ]
  },
  {
   "cell_type": "code",
   "execution_count": 3,
   "metadata": {},
   "outputs": [],
   "source": [
    "local_data_org.drop(['Unnamed: 0'], axis=1, inplace=True)\n",
    "local_data_org.drop_duplicates(['이름'], keep='first', inplace=True,  ignore_index=True)"
   ]
  },
  {
   "cell_type": "code",
   "execution_count": 4,
   "metadata": {},
   "outputs": [
    {
     "name": "stderr",
     "output_type": "stream",
     "text": [
      "100%|██████████| 878/878 [00:06<00:00, 143.18it/s]\n"
     ]
    }
   ],
   "source": [
    "poss_dic = {}\n",
    "\n",
    "for i in tqdm(local_data_org.index):\n",
    "    ## 1.\n",
    "    main = local_data_org.loc[i, \"주소\"]\n",
    "    poss = kkma.nouns(main)\n",
    "\n",
    "    ## 2.\n",
    "    poss_lst = []\n",
    "    for word in poss:\n",
    "        poss_lst.append(word)\n",
    "\n",
    "    ## 3.\n",
    "    poss_dic[i] = poss_lst"
   ]
  },
  {
   "cell_type": "code",
   "execution_count": 5,
   "metadata": {},
   "outputs": [],
   "source": [
    "local_data_org['단어'] = poss_dic\n",
    "\n",
    "for i in local_data_org.index:\n",
    "    if '시' in local_data_org['단어'][i]:\n",
    "        local_data_org['단어'][i].remove('시')\n",
    "    if '구' in local_data_org['단어'][i]:\n",
    "        local_data_org['단어'][i].remove('구')\n",
    "    if '도' in local_data_org['단어'][i]:\n",
    "        local_data_org['단어'][i].remove('도')\n",
    "    if '군' in local_data_org['단어'][i]:\n",
    "        local_data_org['단어'][i].remove('군')\n",
    "    if '읍' in local_data_org['단어'][i]:\n",
    "        local_data_org['단어'][i].remove('읍')\n",
    "    if '광역' in local_data_org['단어'][i]:\n",
    "        local_data_org['단어'][i].remove('광역')\n",
    "    if '광역시' in local_data_org['단어'][i]:\n",
    "        local_data_org['단어'][i].remove('광역시')\n",
    "    if '낚시터' in local_data_org['단어'][i]:\n",
    "        local_data_org['단어'][i].remove('낚시터')"
   ]
  },
  {
   "cell_type": "code",
   "execution_count": 6,
   "metadata": {},
   "outputs": [
    {
     "data": {
      "text/html": [
       "<div>\n",
       "<style scoped>\n",
       "    .dataframe tbody tr th:only-of-type {\n",
       "        vertical-align: middle;\n",
       "    }\n",
       "\n",
       "    .dataframe tbody tr th {\n",
       "        vertical-align: top;\n",
       "    }\n",
       "\n",
       "    .dataframe thead th {\n",
       "        text-align: right;\n",
       "    }\n",
       "</style>\n",
       "<table border=\"1\" class=\"dataframe\">\n",
       "  <thead>\n",
       "    <tr style=\"text-align: right;\">\n",
       "      <th></th>\n",
       "      <th>이름</th>\n",
       "      <th>주소</th>\n",
       "      <th>위도</th>\n",
       "      <th>경도</th>\n",
       "      <th>단어</th>\n",
       "    </tr>\n",
       "  </thead>\n",
       "  <tbody>\n",
       "    <tr>\n",
       "      <th>0</th>\n",
       "      <td>단봉낚시터</td>\n",
       "      <td>강원도 동해시 봉정2길 95-9</td>\n",
       "      <td>37.469895</td>\n",
       "      <td>129.121800</td>\n",
       "      <td>[강원, 강원도, 동해, 동해시, 봉정, 봉정2길, 2, 길]</td>\n",
       "    </tr>\n",
       "    <tr>\n",
       "      <th>1</th>\n",
       "      <td>도깨비낚시터</td>\n",
       "      <td>강원도 횡성군 우천면 백달리 8</td>\n",
       "      <td>37.443485</td>\n",
       "      <td>128.071904</td>\n",
       "      <td>[강원, 강원도, 횡성, 횡성군, 우천, 우천면, 면, 백, 백달, 달, 8]</td>\n",
       "    </tr>\n",
       "    <tr>\n",
       "      <th>2</th>\n",
       "      <td>새말낚시터</td>\n",
       "      <td>강원도 횡성군 우천면 문암리 229</td>\n",
       "      <td>37.467563</td>\n",
       "      <td>128.043670</td>\n",
       "      <td>[강원, 강원도, 횡성, 횡성군, 우천, 우천면, 면, 문, 문암, 암, 229]</td>\n",
       "    </tr>\n",
       "    <tr>\n",
       "      <th>3</th>\n",
       "      <td>대영낚시터</td>\n",
       "      <td>강원도 횡성군 공근면 부창리 546-2</td>\n",
       "      <td>37.585641</td>\n",
       "      <td>127.994522</td>\n",
       "      <td>[강원, 강원도, 횡성, 횡성군, 공근, 공근면, 면, 부, 부창, 창]</td>\n",
       "    </tr>\n",
       "    <tr>\n",
       "      <th>4</th>\n",
       "      <td>현천낚시터</td>\n",
       "      <td>강원도 횡성군 둔내면 현천리 821-2</td>\n",
       "      <td>37.483411</td>\n",
       "      <td>128.175495</td>\n",
       "      <td>[강원, 강원도, 횡성, 횡성군, 둔내, 둔내면, 면, 현천]</td>\n",
       "    </tr>\n",
       "  </tbody>\n",
       "</table>\n",
       "</div>"
      ],
      "text/plain": [
       "       이름                     주소         위도          경도  \\\n",
       "0   단봉낚시터      강원도 동해시 봉정2길 95-9  37.469895  129.121800   \n",
       "1  도깨비낚시터      강원도 횡성군 우천면 백달리 8  37.443485  128.071904   \n",
       "2   새말낚시터    강원도 횡성군 우천면 문암리 229  37.467563  128.043670   \n",
       "3   대영낚시터  강원도 횡성군 공근면 부창리 546-2  37.585641  127.994522   \n",
       "4   현천낚시터  강원도 횡성군 둔내면 현천리 821-2  37.483411  128.175495   \n",
       "\n",
       "                                              단어  \n",
       "0             [강원, 강원도, 동해, 동해시, 봉정, 봉정2길, 2, 길]  \n",
       "1    [강원, 강원도, 횡성, 횡성군, 우천, 우천면, 면, 백, 백달, 달, 8]  \n",
       "2  [강원, 강원도, 횡성, 횡성군, 우천, 우천면, 면, 문, 문암, 암, 229]  \n",
       "3       [강원, 강원도, 횡성, 횡성군, 공근, 공근면, 면, 부, 부창, 창]  \n",
       "4             [강원, 강원도, 횡성, 횡성군, 둔내, 둔내면, 면, 현천]  "
      ]
     },
     "execution_count": 6,
     "metadata": {},
     "output_type": "execute_result"
    }
   ],
   "source": [
    "local_data_org.head()"
   ]
  },
  {
   "cell_type": "code",
   "execution_count": 7,
   "metadata": {},
   "outputs": [],
   "source": [
    "local_data_org.to_csv('C:/Users/admin/Desktop/pre_django/local_dict.csv', encoding='cp949')"
   ]
  },
  {
   "cell_type": "code",
   "execution_count": null,
   "metadata": {},
   "outputs": [],
   "source": []
  }
 ],
 "metadata": {
  "kernelspec": {
   "display_name": "pre_pjt",
   "language": "python",
   "name": "python3"
  },
  "language_info": {
   "codemirror_mode": {
    "name": "ipython",
    "version": 3
   },
   "file_extension": ".py",
   "mimetype": "text/x-python",
   "name": "python",
   "nbconvert_exporter": "python",
   "pygments_lexer": "ipython3",
   "version": "3.8.18"
  }
 },
 "nbformat": 4,
 "nbformat_minor": 2
}
